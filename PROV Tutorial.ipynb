{
 "metadata": {
  "name": "",
  "signature": "sha256:ebde9079a68b5980e51910bc2cb00c6005c49e3f9b2cbdca6a5e5934f98c00ca"
 },
 "nbformat": 3,
 "nbformat_minor": 0,
 "worksheets": [
  {
   "cells": [
    {
     "cell_type": "heading",
     "level": 1,
     "metadata": {},
     "source": [
      "PROV Python Library - A Short Tutorial"
     ]
    },
    {
     "cell_type": "markdown",
     "metadata": {},
     "source": [
      "The [PROV Python library](http://badge.fury.io/py/prov) is an implementation of the [Provenance Data Model](http://www.w3.org/TR/prov-dm/) by the World Wide Web Consortium. This tutorial shows how to use the library to:\n",
      "\n",
      "* create provenance statements in Python;\n",
      "* export the provenance to [PROV-N](http://www.w3.org/TR/prov-n/), [PROV-JSON](https://provenance.ecs.soton.ac.uk/prov-json/), and graphical representations like PNG, SVG, PDF; and\n",
      "* store and retrieve provenance on [ProvStore](https://provenance.ecs.soton.ac.uk/store)."
     ]
    },
    {
     "cell_type": "heading",
     "level": 2,
     "metadata": {},
     "source": [
      "Installation"
     ]
    },
    {
     "cell_type": "markdown",
     "metadata": {},
     "source": [
      "To install the prov library using [pip](http://pip.pypa.io/) with support for graphical exports:\n",
      "```bash\n",
      "pip install prov[dot]\n",
      "```\n",
      "Note: We recommend using [virtualenv](http://virtualenv.readthedocs.org/) (and the excellent companion [virtualenvwrapper](http://virtualenvwrapper.readthedocs.org/)) to avoid package version conflicts. "
     ]
    },
    {
     "cell_type": "markdown",
     "metadata": {},
     "source": [
      "If you want to open [this notebook](https://raw.githubusercontent.com/trungdong/notebooks/master/PROV%20Tutorial.ipynb) and run it locally, install [ipython notebook](http://ipython.org/notebook.html) (in the same virtualenv) and start the notebook server in the folder where this notebook is saved:\n",
      "```bash\n",
      "pip install ipython[notebook]\n",
      "ipython notebook\n",
      "```"
     ]
    },
    {
     "cell_type": "heading",
     "level": 2,
     "metadata": {},
     "source": [
      "Create a simple provenance document"
     ]
    },
    {
     "cell_type": "markdown",
     "metadata": {},
     "source": [
      "In this tutorial, we use the Data Journalism example from [Provenance: An Introduction to PROV](http://www.provbook.org/) by [Luc Moreau](http://www.ecs.soton.ac.uk/~lavm/) and [Paul Groth](http://www.few.vu.nl/~pgroth/). If you do not have access to the book, you can find the example from the [slides](http://www.provbook.org/tutorial/provenanceweek2014/prov-tutorial.pptx) by Luc and Paul (starting from slide #15). Please familarise yourself with the example and relevant PROV concepts (i.e. [entity](http://www.w3.org/TR/prov-primer/#entities), [activity](http://www.w3.org/TR/prov-primer/#activities), [agent](http://www.w3.org/TR/prov-primer/#agents-and-responsibility), ...) before proceeding with this tutorial."
     ]
    },
    {
     "cell_type": "markdown",
     "metadata": {},
     "source": [
      "To create a [provenance document](), import `ProvDocument` class from `prov.model`:"
     ]
    },
    {
     "cell_type": "code",
     "collapsed": false,
     "input": [
      "from prov.model import ProvDocument"
     ],
     "language": "python",
     "metadata": {},
     "outputs": [],
     "prompt_number": 1
    },
    {
     "cell_type": "code",
     "collapsed": false,
     "input": [
      "# Create a new provenance document\n",
      "d1 = ProvDocument()  # d1 is now an empty provenance document"
     ],
     "language": "python",
     "metadata": {},
     "outputs": [],
     "prompt_number": 2
    },
    {
     "cell_type": "markdown",
     "metadata": {},
     "source": [
      "Before asserting provenance statements, we need to have a way to refer to the \"things\" we want to describe provenance (e.g. articles, data sets, people). For that purpose, PROV uses [qualified names](http://www.w3.org/TR/prov-dm/#term-identifier) to identify things, which essentially a shortened representation of a [URI](http://en.wikipedia.org/wiki/Uniform_resource_identifier) in the form of `prefix:localpart`. Valid qualified names require their prefixes defined, which we is going to do next."
     ]
    },
    {
     "cell_type": "code",
     "collapsed": false,
     "input": [
      "# Declaring namespaces for various prefixes used in the example\n",
      "d1.add_namespace('now', 'http://www.provbook.org/nownews/')\n",
      "d1.add_namespace('nowpeople', 'http://www.provbook.org/nownews/people/')\n",
      "d1.add_namespace('bk', 'http://www.provbook.org/ns/#')"
     ],
     "language": "python",
     "metadata": {},
     "outputs": [
      {
       "metadata": {},
       "output_type": "pyout",
       "prompt_number": 3,
       "text": [
        "<Namespace: bk {http://www.provbook.org/ns/#}>"
       ]
      }
     ],
     "prompt_number": 3
    },
    {
     "cell_type": "markdown",
     "metadata": {},
     "source": [
      "Now we can create things like entities, agents and relate them with one another."
     ]
    },
    {
     "cell_type": "code",
     "collapsed": false,
     "input": [
      "# Entity: now:employment-article-v1.html\n",
      "e1 = d1.entity('now:employment-article-v1.html')\n",
      "# Agent: nowpeople:Bob\n",
      "d1.agent('nowpeople:Bob')"
     ],
     "language": "python",
     "metadata": {},
     "outputs": [
      {
       "metadata": {},
       "output_type": "pyout",
       "prompt_number": 4,
       "text": [
        "<ProvAgent: nowpeople:Bob>"
       ]
      }
     ],
     "prompt_number": 4
    },
    {
     "cell_type": "markdown",
     "metadata": {},
     "source": [
      "The first statement above create an entity referred to as `now:employment-article-v1.html`, which is the first version of the article about employment in our example. Note that although we provided a string as the entity's identifier, since `now` is a registered prefix, the library automatically convert the string into a valid qualified name. The newly created entity is assigned to `e1`.\n",
      "\n",
      "Similarly, the second statement create an agent called `nowpeople:Bob`. Apart from `d1.` part at the begining of each statement, these statements closely resemble the correstponding PROV-N statements to assert the same information. This is a principle we followed when designing the prov library as can be seen throughout this tutorial."
     ]
    },
    {
     "cell_type": "code",
     "collapsed": false,
     "input": [
      "# Attributing the article to the agent\n",
      "d1.wasAttributedTo(e1, 'nowpeople:Bob')"
     ],
     "language": "python",
     "metadata": {},
     "outputs": [
      {
       "metadata": {},
       "output_type": "pyout",
       "prompt_number": 5,
       "text": [
        "<ProvAttribution: (now:employment-article-v1.html, nowpeople:Bob)>"
       ]
      }
     ],
     "prompt_number": 5
    },
    {
     "cell_type": "code",
     "collapsed": false,
     "input": [
      "# What we have so far (in PROV-N)\n",
      "print d1.get_provn()"
     ],
     "language": "python",
     "metadata": {},
     "outputs": [
      {
       "output_type": "stream",
       "stream": "stdout",
       "text": [
        "document\n",
        "  prefix nowpeople <http://www.provbook.org/nownews/people/>\n",
        "  prefix now <http://www.provbook.org/nownews/>\n",
        "  prefix bk <http://www.provbook.org/ns/#>\n",
        "  \n",
        "  entity(now:employment-article-v1.html)\n",
        "  agent(nowpeople:Bob)\n",
        "  wasAttributedTo(now:employment-article-v1.html, nowpeople:Bob)\n",
        "endDocument\n"
       ]
      }
     ],
     "prompt_number": 6
    },
    {
     "cell_type": "markdown",
     "metadata": {},
     "source": [
      "We can add more to our simple document. The following adds a new entity `govftp:oesm11st.zip`, which is a `void:Dataset` and has the label `employment-stats-2011`. The entity's type and label are domain-specific information; similar information can be added to any record as the last argument of a statement (or as a keyword argument `other_attributes`).\n",
      "\n",
      "The last statement below then asserts that the article `now:employment-article-v1.html` was derived from the data set."
     ]
    },
    {
     "cell_type": "code",
     "collapsed": false,
     "input": [
      "# 'now:employment-article-v1.html' was derived from govftp\n",
      "d1.add_namespace('govftp', 'ftp://ftp.bls.gov/pub/special.requests/oes/')\n",
      "d1.add_namespace('void', 'http://vocab.deri.ie/void#')\n",
      "d1.entity('govftp:oesm11st.zip', {'prov:label': 'employment-stats-2011', 'prov:type': 'void:Dataset'})\n",
      "d1.wasDerivedFrom('now:employment-article-v1.html', 'govftp:oesm11st.zip')"
     ],
     "language": "python",
     "metadata": {},
     "outputs": [
      {
       "metadata": {},
       "output_type": "pyout",
       "prompt_number": 7,
       "text": [
        "<ProvDerivation: (now:employment-article-v1.html, govftp:oesm11st.zip)>"
       ]
      }
     ],
     "prompt_number": 7
    },
    {
     "cell_type": "code",
     "collapsed": false,
     "input": [
      "print d1.get_provn()"
     ],
     "language": "python",
     "metadata": {},
     "outputs": [
      {
       "output_type": "stream",
       "stream": "stdout",
       "text": [
        "document\n",
        "  prefix nowpeople <http://www.provbook.org/nownews/people/>\n",
        "  prefix void <http://vocab.deri.ie/void#>\n",
        "  prefix now <http://www.provbook.org/nownews/>\n",
        "  prefix govftp <ftp://ftp.bls.gov/pub/special.requests/oes/>\n",
        "  prefix bk <http://www.provbook.org/ns/#>\n",
        "  \n",
        "  entity(now:employment-article-v1.html)\n",
        "  agent(nowpeople:Bob)\n",
        "  wasAttributedTo(now:employment-article-v1.html, nowpeople:Bob)\n",
        "  entity(govftp:oesm11st.zip, [prov:type=\"void:Dataset\", prov:label=\"employment-stats-2011\"])\n",
        "  wasDerivedFrom(now:employment-article-v1.html, govftp:oesm11st.zip, None, None, None)\n",
        "endDocument\n"
       ]
      }
     ],
     "prompt_number": 8
    },
    {
     "cell_type": "markdown",
     "metadata": {},
     "source": [
      "Following the example, we further extend the document with an activity, a usage, and a generation statement."
     ]
    },
    {
     "cell_type": "code",
     "collapsed": false,
     "input": [
      "# Adding an activity\n",
      "d1.add_namespace('is', 'http://www.provbook.org/nownews/is/#')\n",
      "d1.activity('is:writeArticle')"
     ],
     "language": "python",
     "metadata": {},
     "outputs": [
      {
       "metadata": {},
       "output_type": "pyout",
       "prompt_number": 9,
       "text": [
        "<ProvActivity: is:writeArticle>"
       ]
      }
     ],
     "prompt_number": 9
    },
    {
     "cell_type": "code",
     "collapsed": false,
     "input": [
      "# Usage and Generation\n",
      "d1.used('is:writeArticle', 'govftp:oesm11st.zip')\n",
      "d1.wasGeneratedBy('now:employment-article-v1.html', 'is:writeArticle')"
     ],
     "language": "python",
     "metadata": {},
     "outputs": [
      {
       "metadata": {},
       "output_type": "pyout",
       "prompt_number": 10,
       "text": [
        "<ProvGeneration: (now:employment-article-v1.html, is:writeArticle)>"
       ]
      }
     ],
     "prompt_number": 10
    },
    {
     "cell_type": "heading",
     "level": 2,
     "metadata": {},
     "source": [
      "Graphics export (PNG and PDF)"
     ]
    },
    {
     "cell_type": "markdown",
     "metadata": {},
     "source": [
      "In addition to the PROV-N output (as above), the document can be exported into a graphical representation with the help of the [GraphViz](http://www.graphviz.org/). It is provided as a software package in popular Linux distributions, or can be [downloaded](http://www.graphviz.org/Download.php) for Windows and Mac.\n",
      "\n",
      "Once you have GraphViz installed and the `dot` command available in your operating system's paths, you can save the document we have so far into a PNG file as follows."
     ]
    },
    {
     "cell_type": "code",
     "collapsed": false,
     "input": [
      "# visualize the graph\n",
      "from prov.dot import prov_to_dot\n",
      "dot = prov_to_dot(d1)\n",
      "dot.write_png('article-prov.png')"
     ],
     "language": "python",
     "metadata": {},
     "outputs": [
      {
       "output_type": "stream",
       "stream": "stdout",
       "text": [
        "Couldn't import dot_parser, loading of dot files will not be possible.\n"
       ]
      },
      {
       "metadata": {},
       "output_type": "pyout",
       "prompt_number": 11,
       "text": [
        "True"
       ]
      }
     ],
     "prompt_number": 11
    },
    {
     "cell_type": "markdown",
     "metadata": {},
     "source": [
      "The above saves the PNG file as `article-prov.png` in your current folder. If you're runing this tutorial in Ipython Notebook, you can display it as well."
     ]
    },
    {
     "cell_type": "code",
     "collapsed": false,
     "input": [
      "from IPython.display import Image\n",
      "Image('article-prov.png')"
     ],
     "language": "python",
     "metadata": {},
     "outputs": [
      {
       "metadata": {},
       "output_type": "pyout",
       "png": "[encoded data removed]",
       "prompt_number": 12,
       "text": [
        "<IPython.core.display.Image at 0x105591850>"
       ]
      }
     ],
     "prompt_number": 12
    },
    {
     "cell_type": "code",
     "collapsed": false,
     "input": [
      "# Or save to a PDF\n",
      "dot.write_pdf('article-prov.pdf')"
     ],
     "language": "python",
     "metadata": {},
     "outputs": [
      {
       "metadata": {},
       "output_type": "pyout",
       "prompt_number": 13,
       "text": [
        "True"
       ]
      }
     ],
     "prompt_number": 13
    },
    {
     "cell_type": "markdown",
     "metadata": {},
     "source": [
      "Similarly, the above saves the document into a PDF file in your current working folder. Graphviz supports a wide ranges of [raster and vector outputs](http://www.graphviz.org/doc/info/output.html), to which you can export your provenance documents created by the library. To find out what formats are available from your version, run `dot -T?` at the command line."
     ]
    },
    {
     "cell_type": "heading",
     "level": 2,
     "metadata": {},
     "source": [
      "PROV-JSON export"
     ]
    },
    {
     "cell_type": "markdown",
     "metadata": {},
     "source": [
      "[PROV-JSON](https://provenance.ecs.soton.ac.uk/prov-json/) is natively supported by the library and is the default serialisation format."
     ]
    },
    {
     "cell_type": "code",
     "collapsed": false,
     "input": [
      "print d1.serialize(indent=2)"
     ],
     "language": "python",
     "metadata": {},
     "outputs": [
      {
       "output_type": "stream",
       "stream": "stdout",
       "text": [
        "{\n",
        "  \"wasDerivedFrom\": {\n",
        "    \"_:id2\": {\n",
        "      \"prov:usedEntity\": \"govftp:oesm11st.zip\", \n",
        "      \"prov:generatedEntity\": \"now:employment-article-v1.html\"\n",
        "    }\n",
        "  }, \n",
        "  \"used\": {\n",
        "    \"_:id3\": {\n",
        "      \"prov:entity\": \"govftp:oesm11st.zip\", \n",
        "      \"prov:activity\": \"is:writeArticle\"\n",
        "    }\n",
        "  }, \n",
        "  \"wasAttributedTo\": {\n",
        "    \"_:id1\": {\n",
        "      \"prov:entity\": \"now:employment-article-v1.html\", \n",
        "      \"prov:agent\": \"nowpeople:Bob\"\n",
        "    }\n",
        "  }, \n",
        "  \"agent\": {\n",
        "    \"nowpeople:Bob\": {}\n",
        "  }, \n",
        "  \"entity\": {\n",
        "    \"now:employment-article-v1.html\": {}, \n",
        "    \"govftp:oesm11st.zip\": {\n",
        "      \"prov:type\": \"void:Dataset\", \n",
        "      \"prov:label\": \"employment-stats-2011\"\n",
        "    }\n",
        "  }, \n",
        "  \"prefix\": {\n",
        "    \"void\": \"http://vocab.deri.ie/void#\", \n",
        "    \"govftp\": \"ftp://ftp.bls.gov/pub/special.requests/oes/\", \n",
        "    \"bk\": \"http://www.provbook.org/ns/#\", \n",
        "    \"nowpeople\": \"http://www.provbook.org/nownews/people/\", \n",
        "    \"now\": \"http://www.provbook.org/nownews/\", \n",
        "    \"is\": \"http://www.provbook.org/nownews/is/#\"\n",
        "  }, \n",
        "  \"activity\": {\n",
        "    \"is:writeArticle\": {}\n",
        "  }, \n",
        "  \"wasGeneratedBy\": {\n",
        "    \"_:id4\": {\n",
        "      \"prov:entity\": \"now:employment-article-v1.html\", \n",
        "      \"prov:activity\": \"is:writeArticle\"\n",
        "    }\n",
        "  }\n",
        "}\n"
       ]
      }
     ],
     "prompt_number": 14
    },
    {
     "cell_type": "markdown",
     "metadata": {},
     "source": [
      "You can also serialize the document directly to a file by providing a filename (below) or a Python File object."
     ]
    },
    {
     "cell_type": "code",
     "collapsed": false,
     "input": [
      "d1.serialize('article-prov.json')"
     ],
     "language": "python",
     "metadata": {},
     "outputs": [],
     "prompt_number": 15
    },
    {
     "cell_type": "heading",
     "level": 2,
     "metadata": {},
     "source": [
      "Store and retrieve provenance documents from ProvStore"
     ]
    },
    {
     "cell_type": "markdown",
     "metadata": {},
     "source": [
      "Having the created a provenance document, you can upload it to [ProvStore](https://provenance.ecs.soton.ac.uk/store/), a free repository for provenance documents, to share it publicly/privately, or simple just to store and retrieve it back at a later time.\n",
      "In addition to storage and sharing, you can also retrieve your documents on ProvStore in further formats like XML and RDF, transform, and/or visualise them in various ways (see [this poster](http://eprints.soton.ac.uk/365509/) for more information).\n",
      "\n",
      "Before storing your document there, you need to [register for an account](https://provenance.ecs.soton.ac.uk/store/account/signup/). You can then upload the PROV-N or PROV-JSON export above via ProvStore's website. However, if you [generated an API Key](https://provenance.ecs.soton.ac.uk/store/account/developer/) for your account, you can also upload the document there directly from this tutorial as shown below.\n",
      "\n",
      "A wrapper for [ProvStore's REST API](https://provenance.ecs.soton.ac.uk/store/help/api/) is provided by the package [provstore-api](https://github.com/millar/provstore-api#installation). Please follow the [installation instructions](https://github.com/millar/provstore-api#installation) there before proceeding."
     ]
    },
    {
     "cell_type": "code",
     "collapsed": false,
     "input": [
      "# Configure ProvStore API Wrapper with your API Key\n",
      "from provstore.api import Api\n",
      "# see your API key at https://provenance.ecs.soton.ac.uk/store/account/developer/\n",
      "api = Api(username='your ProvStore username', api_key='your API key')"
     ],
     "language": "python",
     "metadata": {},
     "outputs": [],
     "prompt_number": 16
    },
    {
     "cell_type": "code",
     "collapsed": false,
     "input": [
      "# Submit the document to ProvStore\n",
      "provstore_document = api.document.create(d1, name='article-prov', public=True)\n",
      "\n",
      "# Generate a nice link to the document on ProvStore so you don't have to find it manually \n",
      "from IPython.display import HTML\n",
      "document_uri = provstore_document.url\n",
      "HTML('<a href=\"%s\" target=\"_blank\">Open your new provenance document on ProvStore</a>' % document_uri)"
     ],
     "language": "python",
     "metadata": {},
     "outputs": [
      {
       "html": [
        "<a href=\"https://provenance.ecs.soton.ac.uk/store/documents/25853\" target=\"_blank\">Open your new provenance document on ProvStore</a>"
       ],
       "metadata": {},
       "output_type": "pyout",
       "prompt_number": 17,
       "text": [
        "<IPython.core.display.HTML at 0x105bdc790>"
       ]
      }
     ],
     "prompt_number": 17
    },
    {
     "cell_type": "markdown",
     "metadata": {},
     "source": [
      "The first statement above submit the document `d1` to ProvStore, giving it a name (required) and making it visible to everyone (optional and private by default). Clicking on the link generated will open the page on ProvStore for the document you just submitted."
     ]
    },
    {
     "cell_type": "markdown",
     "metadata": {},
     "source": [
      "The returned object is a wrapper for the document on ProvStore identified by `provstore_document.id`, with which you can, of course, retrieve the document again from ProvStore."
     ]
    },
    {
     "cell_type": "code",
     "collapsed": false,
     "input": [
      "# Retrieve it back\n",
      "retrieved_document = api.document.get(provstore_document.id)\n",
      "d2 = retrieved_document.prov\n",
      "d1 == d2  # Is it the same document we submitted?"
     ],
     "language": "python",
     "metadata": {},
     "outputs": [
      {
       "metadata": {},
       "output_type": "pyout",
       "prompt_number": 18,
       "text": [
        "True"
       ]
      }
     ],
     "prompt_number": 18
    },
    {
     "cell_type": "markdown",
     "metadata": {},
     "source": [
      "You can also remove the document from ProvStore via its API. It is a good idea to leave your account there nice and tidy anyway."
     ]
    },
    {
     "cell_type": "code",
     "collapsed": false,
     "input": [
      "# Cleaning up, delete the document\n",
      "retrieved_document.delete()"
     ],
     "language": "python",
     "metadata": {},
     "outputs": [
      {
       "metadata": {},
       "output_type": "pyout",
       "prompt_number": 19,
       "text": [
        "True"
       ]
      }
     ],
     "prompt_number": 19
    },
    {
     "cell_type": "code",
     "collapsed": false,
     "input": [
      "# Just to be sure, trying to retrieve it again\n",
      "api.document.get(provstore_document.id)  # the document is no longer there"
     ],
     "language": "python",
     "metadata": {},
     "outputs": [
      {
       "ename": "NotFoundException",
       "evalue": "",
       "output_type": "pyerr",
       "traceback": [
        "\u001b[0;31m---------------------------------------------------------------------------\u001b[0m\n\u001b[0;31mNotFoundException\u001b[0m                         Traceback (most recent call last)",
        "\u001b[0;32m<ipython-input-20-dc89ac7bcb1b>\u001b[0m in \u001b[0;36m<module>\u001b[0;34m()\u001b[0m\n\u001b[1;32m      1\u001b[0m \u001b[0;31m# Just to be sure, trying to retrieve it again\u001b[0m\u001b[0;34m\u001b[0m\u001b[0;34m\u001b[0m\u001b[0m\n\u001b[0;32m----> 2\u001b[0;31m \u001b[0mapi\u001b[0m\u001b[0;34m.\u001b[0m\u001b[0mdocument\u001b[0m\u001b[0;34m.\u001b[0m\u001b[0mget\u001b[0m\u001b[0;34m(\u001b[0m\u001b[0mprovstore_document\u001b[0m\u001b[0;34m.\u001b[0m\u001b[0mid\u001b[0m\u001b[0;34m)\u001b[0m  \u001b[0;31m# the document is no longer there\u001b[0m\u001b[0;34m\u001b[0m\u001b[0m\n\u001b[0m",
        "\u001b[0;32m/Users/tdh/.virtualenvs/tutorial/lib/python2.7/site-packages/provstore/document.pyc\u001b[0m in \u001b[0;36mget\u001b[0;34m(self, document_id)\u001b[0m\n\u001b[1;32m    130\u001b[0m             \u001b[0;32mraise\u001b[0m \u001b[0mImmutableDocumentException\u001b[0m\u001b[0;34m(\u001b[0m\u001b[0;34m)\u001b[0m\u001b[0;34m\u001b[0m\u001b[0m\n\u001b[1;32m    131\u001b[0m \u001b[0;34m\u001b[0m\u001b[0m\n\u001b[0;32m--> 132\u001b[0;31m         \u001b[0;32mreturn\u001b[0m \u001b[0mself\u001b[0m\u001b[0;34m.\u001b[0m\u001b[0mread\u001b[0m\u001b[0;34m(\u001b[0m\u001b[0mdocument_id\u001b[0m\u001b[0;34m)\u001b[0m\u001b[0;34m\u001b[0m\u001b[0m\n\u001b[0m\u001b[1;32m    133\u001b[0m \u001b[0;34m\u001b[0m\u001b[0m\n\u001b[1;32m    134\u001b[0m     \u001b[0;31m# Instance methods\u001b[0m\u001b[0;34m\u001b[0m\u001b[0;34m\u001b[0m\u001b[0m\n",
        "\u001b[0;32m/Users/tdh/.virtualenvs/tutorial/lib/python2.7/site-packages/provstore/document.pyc\u001b[0m in \u001b[0;36mread\u001b[0;34m(self, document_id)\u001b[0m\n\u001b[1;32m    145\u001b[0m         \u001b[0;34m:\u001b[0m\u001b[0;32mreturn\u001b[0m\u001b[0;34m:\u001b[0m \u001b[0mself\u001b[0m\u001b[0;34m\u001b[0m\u001b[0m\n\u001b[1;32m    146\u001b[0m         \"\"\"\n\u001b[0;32m--> 147\u001b[0;31m         \u001b[0mself\u001b[0m\u001b[0;34m.\u001b[0m\u001b[0mread_prov\u001b[0m\u001b[0;34m(\u001b[0m\u001b[0mdocument_id\u001b[0m\u001b[0;34m)\u001b[0m\u001b[0;34m\u001b[0m\u001b[0m\n\u001b[0m\u001b[1;32m    148\u001b[0m         \u001b[0mself\u001b[0m\u001b[0;34m.\u001b[0m\u001b[0mread_meta\u001b[0m\u001b[0;34m(\u001b[0m\u001b[0;34m)\u001b[0m\u001b[0;34m\u001b[0m\u001b[0m\n\u001b[1;32m    149\u001b[0m         \u001b[0;32mreturn\u001b[0m \u001b[0mself\u001b[0m\u001b[0;34m\u001b[0m\u001b[0m\n",
        "\u001b[0;32m/Users/tdh/.virtualenvs/tutorial/lib/python2.7/site-packages/provstore/document.pyc\u001b[0m in \u001b[0;36mread_prov\u001b[0;34m(self, document_id)\u001b[0m\n\u001b[1;32m    178\u001b[0m             \u001b[0;32mraise\u001b[0m \u001b[0mAbstractDocumentException\u001b[0m\u001b[0;34m(\u001b[0m\u001b[0;34m)\u001b[0m\u001b[0;34m\u001b[0m\u001b[0m\n\u001b[1;32m    179\u001b[0m \u001b[0;34m\u001b[0m\u001b[0m\n\u001b[0;32m--> 180\u001b[0;31m         \u001b[0mself\u001b[0m\u001b[0;34m.\u001b[0m\u001b[0m_prov\u001b[0m \u001b[0;34m=\u001b[0m \u001b[0mself\u001b[0m\u001b[0;34m.\u001b[0m\u001b[0m_api\u001b[0m\u001b[0;34m.\u001b[0m\u001b[0mget_document_prov\u001b[0m\u001b[0;34m(\u001b[0m\u001b[0mself\u001b[0m\u001b[0;34m.\u001b[0m\u001b[0mid\u001b[0m\u001b[0;34m)\u001b[0m\u001b[0;34m\u001b[0m\u001b[0m\n\u001b[0m\u001b[1;32m    181\u001b[0m         \u001b[0;32mreturn\u001b[0m \u001b[0mself\u001b[0m\u001b[0;34m.\u001b[0m\u001b[0m_prov\u001b[0m\u001b[0;34m\u001b[0m\u001b[0m\n\u001b[1;32m    182\u001b[0m \u001b[0;34m\u001b[0m\u001b[0m\n",
        "\u001b[0;32m/Users/tdh/.virtualenvs/tutorial/lib/python2.7/site-packages/provstore/api.pyc\u001b[0m in \u001b[0;36mget_document_prov\u001b[0;34m(self, document_id, prov_format)\u001b[0m\n\u001b[1;32m     96\u001b[0m \u001b[0;34m\u001b[0m\u001b[0m\n\u001b[1;32m     97\u001b[0m         r = self._request('get', self.base_url + \"/documents/%i.%s\" % (document_id, extension),\n\u001b[0;32m---> 98\u001b[0;31m                           headers=self.headers)\n\u001b[0m\u001b[1;32m     99\u001b[0m \u001b[0;34m\u001b[0m\u001b[0m\n\u001b[1;32m    100\u001b[0m         \u001b[0;32mif\u001b[0m \u001b[0mprov_format\u001b[0m \u001b[0;34m==\u001b[0m \u001b[0mProvDocument\u001b[0m\u001b[0;34m:\u001b[0m\u001b[0;34m\u001b[0m\u001b[0m\n",
        "\u001b[0;32m/Users/tdh/.virtualenvs/tutorial/lib/python2.7/site-packages/provstore/api.pyc\u001b[0m in \u001b[0;36m_request\u001b[0;34m(self, method, *args, **kwargs)\u001b[0m\n\u001b[1;32m     78\u001b[0m \u001b[0;34m\u001b[0m\u001b[0m\n\u001b[1;32m     79\u001b[0m         \u001b[0;32mif\u001b[0m \u001b[0mr\u001b[0m\u001b[0;34m.\u001b[0m\u001b[0mstatus_code\u001b[0m \u001b[0;34m==\u001b[0m \u001b[0;36m404\u001b[0m\u001b[0;34m:\u001b[0m\u001b[0;34m\u001b[0m\u001b[0m\n\u001b[0;32m---> 80\u001b[0;31m             \u001b[0;32mraise\u001b[0m \u001b[0mNotFoundException\u001b[0m\u001b[0;34m(\u001b[0m\u001b[0;34m)\u001b[0m\u001b[0;34m\u001b[0m\u001b[0m\n\u001b[0m\u001b[1;32m     81\u001b[0m         \u001b[0;32melse\u001b[0m\u001b[0;34m:\u001b[0m\u001b[0;34m\u001b[0m\u001b[0m\n\u001b[1;32m     82\u001b[0m             \u001b[0;31m# Fallback\u001b[0m\u001b[0;34m\u001b[0m\u001b[0;34m\u001b[0m\u001b[0m\n",
        "\u001b[0;31mNotFoundException\u001b[0m: "
       ]
      }
     ],
     "prompt_number": 20
    },
    {
     "cell_type": "heading",
     "level": 2,
     "metadata": {},
     "source": [
      "Further reading"
     ]
    },
    {
     "cell_type": "markdown",
     "metadata": {},
     "source": [
      "There it is, through a very short tutorial, you have managed to create a provenance document, export it, and store it on the cloud. Simple!\n",
      "\n",
      "If you want to find out more about how to use the library and ProvStore, here are some references:\n",
      "* [Prov Python library's documentation](http://prov.readthedocs.org)\n",
      "* [ProvStore's API documentation](https://provenance.ecs.soton.ac.uk/store/help/api/)\n",
      "* Book: [Provenance: An Introduction to PROV](http://www.provbook.org/)\n",
      "* [Overview of the PROV standards](http://www.w3.org/TR/prov-overview/)\n",
      "\n",
      "Finally, if you have issues with the Prov Python library, please report them at our [issue tracker on Github](https://github.com/trungdong/prov/issues)."
     ]
    },
    {
     "cell_type": "markdown",
     "metadata": {},
     "source": [
      "<a rel=\"license\" href=\"http://creativecommons.org/licenses/by-sa/4.0/\"><img alt=\"Creative Commons Licence\" style=\"border-width:0\" src=\"https://i.creativecommons.org/l/by-sa/4.0/88x31.png\" /></a><br /><span xmlns:dct=\"http://purl.org/dc/terms/\" href=\"http://purl.org/dc/dcmitype/InteractiveResource\" property=\"dct:title\" rel=\"dct:type\">PROV Python Library - A Short Tutorial</span> by <a xmlns:cc=\"http://creativecommons.org/ns#\" href=\"http://about.me/dong.huynh\" property=\"cc:attributionName\" rel=\"cc:attributionURL\">Trung Dong Huynh</a> is licensed under a <a rel=\"license\" href=\"http://creativecommons.org/licenses/by-sa/4.0/\">Creative Commons Attribution-ShareAlike 4.0 International License</a>."
     ]
    }
   ],
   "metadata": {}
  }
 ]
}